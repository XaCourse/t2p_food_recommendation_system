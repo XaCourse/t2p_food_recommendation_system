{
 "cells": [
  {
   "cell_type": "code",
   "execution_count": 186,
   "id": "55173b3f",
   "metadata": {},
   "outputs": [],
   "source": [
    "import pandas as pd\n",
    "import numpy as np"
   ]
  },
  {
   "cell_type": "code",
   "execution_count": 187,
   "id": "63cb001f",
   "metadata": {},
   "outputs": [],
   "source": [
    "data = pd.read_json(\"data/response.json\")"
   ]
  },
  {
   "cell_type": "code",
   "execution_count": 188,
   "id": "30dbe01a",
   "metadata": {
    "scrolled": false
   },
   "outputs": [
    {
     "data": {
      "text/html": [
       "<div>\n",
       "<style scoped>\n",
       "    .dataframe tbody tr th:only-of-type {\n",
       "        vertical-align: middle;\n",
       "    }\n",
       "\n",
       "    .dataframe tbody tr th {\n",
       "        vertical-align: top;\n",
       "    }\n",
       "\n",
       "    .dataframe thead th {\n",
       "        text-align: right;\n",
       "    }\n",
       "</style>\n",
       "<table border=\"1\" class=\"dataframe\">\n",
       "  <thead>\n",
       "    <tr style=\"text-align: right;\">\n",
       "      <th></th>\n",
       "      <th>combo_products</th>\n",
       "      <th>name</th>\n",
       "      <th>category</th>\n",
       "      <th>sub_category</th>\n",
       "      <th>cuisine</th>\n",
       "      <th>brand</th>\n",
       "      <th>vendor</th>\n",
       "      <th>desc</th>\n",
       "      <th>short_desc</th>\n",
       "      <th>file</th>\n",
       "      <th>...</th>\n",
       "      <th>seo_title</th>\n",
       "      <th>seo_description</th>\n",
       "      <th>seo_keywords</th>\n",
       "      <th>top</th>\n",
       "      <th>taste</th>\n",
       "      <th>slug_history</th>\n",
       "      <th>_id</th>\n",
       "      <th>point_exp_date</th>\n",
       "      <th>slug</th>\n",
       "      <th>__v</th>\n",
       "    </tr>\n",
       "  </thead>\n",
       "  <tbody>\n",
       "    <tr>\n",
       "      <th>0</th>\n",
       "      <td>NaN</td>\n",
       "      <td>Pyaz Kachori (6 pieces) - Radha Kachori, Jaipur</td>\n",
       "      <td>{'name': 'COOKED FOOD', '_id': '6050bb1256cb9d...</td>\n",
       "      <td>{'name': 'Cooked Vegetarian Food Items', '_id'...</td>\n",
       "      <td>{'name': 'Rajasthani', '_id': '604b4a98dbd6250...</td>\n",
       "      <td>{'name': 'Radhe Kachori - Jaipur', '_id': '617...</td>\n",
       "      <td>{'full_name': 'RADHE KACHORI - JAIPUR', '_id':...</td>\n",
       "      <td>Kanda Kachauri is a kind of Rajasthani Kachori...</td>\n",
       "      <td>Kanda Kachauri is a kind of Rajasthani Kachori...</td>\n",
       "      <td>[{'fieldname': 'upload', 'originalname': 'Pyaz...</td>\n",
       "      <td>...</td>\n",
       "      <td>Pyajj Kachori Radhe Kachori Jaipur | tastes2plate</td>\n",
       "      <td>Order online Intercity delivery of Pyaz Kachor...</td>\n",
       "      <td>Pyaz Kachori Radhe Kachori Jaipur, Pyaz Kachor...</td>\n",
       "      <td>0</td>\n",
       "      <td>1</td>\n",
       "      <td>[pyaz-kachori-6-pieces-radha-kachori-jaipur]</td>\n",
       "      <td>652913a6e6e20a661fa66975</td>\n",
       "      <td>2023-10-13T00:00:00.000Z</td>\n",
       "      <td>pyaz-kachori-6-pieces-radha-kachori-jaipur</td>\n",
       "      <td>0</td>\n",
       "    </tr>\n",
       "  </tbody>\n",
       "</table>\n",
       "<p>1 rows × 56 columns</p>\n",
       "</div>"
      ],
      "text/plain": [
       "   combo_products                                             name  \\\n",
       "0             NaN  Pyaz Kachori (6 pieces) - Radha Kachori, Jaipur   \n",
       "\n",
       "                                            category  \\\n",
       "0  {'name': 'COOKED FOOD', '_id': '6050bb1256cb9d...   \n",
       "\n",
       "                                        sub_category  \\\n",
       "0  {'name': 'Cooked Vegetarian Food Items', '_id'...   \n",
       "\n",
       "                                             cuisine  \\\n",
       "0  {'name': 'Rajasthani', '_id': '604b4a98dbd6250...   \n",
       "\n",
       "                                               brand  \\\n",
       "0  {'name': 'Radhe Kachori - Jaipur', '_id': '617...   \n",
       "\n",
       "                                              vendor  \\\n",
       "0  {'full_name': 'RADHE KACHORI - JAIPUR', '_id':...   \n",
       "\n",
       "                                                desc  \\\n",
       "0  Kanda Kachauri is a kind of Rajasthani Kachori...   \n",
       "\n",
       "                                          short_desc  \\\n",
       "0  Kanda Kachauri is a kind of Rajasthani Kachori...   \n",
       "\n",
       "                                                file  ...  \\\n",
       "0  [{'fieldname': 'upload', 'originalname': 'Pyaz...  ...   \n",
       "\n",
       "                                           seo_title  \\\n",
       "0  Pyajj Kachori Radhe Kachori Jaipur | tastes2plate   \n",
       "\n",
       "                                     seo_description  \\\n",
       "0  Order online Intercity delivery of Pyaz Kachor...   \n",
       "\n",
       "                                        seo_keywords top taste  \\\n",
       "0  Pyaz Kachori Radhe Kachori Jaipur, Pyaz Kachor...   0     1   \n",
       "\n",
       "                                   slug_history                       _id  \\\n",
       "0  [pyaz-kachori-6-pieces-radha-kachori-jaipur]  652913a6e6e20a661fa66975   \n",
       "\n",
       "             point_exp_date                                        slug __v  \n",
       "0  2023-10-13T00:00:00.000Z  pyaz-kachori-6-pieces-radha-kachori-jaipur   0  \n",
       "\n",
       "[1 rows x 56 columns]"
      ]
     },
     "execution_count": 188,
     "metadata": {},
     "output_type": "execute_result"
    }
   ],
   "source": [
    "data.head(1)"
   ]
  },
  {
   "cell_type": "code",
   "execution_count": 189,
   "id": "c4c8f894",
   "metadata": {},
   "outputs": [],
   "source": [
    "## Extract valueable info from this data for ex category has 2 fields name and id so we extract name"
   ]
  },
  {
   "cell_type": "code",
   "execution_count": 190,
   "id": "6975bb16",
   "metadata": {},
   "outputs": [
    {
     "data": {
      "text/plain": [
       "{'name': 'COOKED FOOD', '_id': '6050bb1256cb9d00088521bc'}    2453\n",
       "{'name': 'SWEET', '_id': '6050bf608f37b70008b0ed38'}           196\n",
       "Name: category, dtype: int64"
      ]
     },
     "execution_count": 190,
     "metadata": {},
     "output_type": "execute_result"
    }
   ],
   "source": [
    "data['category'].value_counts()\n",
    "## data is imbalanced so we can improve our model here also"
   ]
  },
  {
   "cell_type": "code",
   "execution_count": 191,
   "id": "2d913c59",
   "metadata": {},
   "outputs": [],
   "source": [
    "def extractInfo(info, key):\n",
    "    return info[key]"
   ]
  },
  {
   "cell_type": "code",
   "execution_count": 192,
   "id": "6b4729c6",
   "metadata": {},
   "outputs": [],
   "source": [
    "data['category'] =  data['category'].apply(extractInfo, key=\"name\")\n",
    "data['sub_category'] = data['sub_category'].apply(extractInfo, key=\"name\")\n",
    "data['cuisine'] = data['cuisine'].apply(extractInfo, key='name')\n",
    "data['brand'] = data['brand'].apply(extractInfo, key='name')\n",
    "data['vendor'] = data['vendor'].apply(extractInfo, key='full_name')\n",
    "data['city'] = data['city'].apply(extractInfo, key='name')\n",
    "data['file']= data['file'].apply(lambda x:x[0]['location'])\n"
   ]
  },
  {
   "cell_type": "code",
   "execution_count": 193,
   "id": "617d29fb",
   "metadata": {
    "scrolled": true
   },
   "outputs": [
    {
     "data": {
      "text/html": [
       "<div>\n",
       "<style scoped>\n",
       "    .dataframe tbody tr th:only-of-type {\n",
       "        vertical-align: middle;\n",
       "    }\n",
       "\n",
       "    .dataframe tbody tr th {\n",
       "        vertical-align: top;\n",
       "    }\n",
       "\n",
       "    .dataframe thead th {\n",
       "        text-align: right;\n",
       "    }\n",
       "</style>\n",
       "<table border=\"1\" class=\"dataframe\">\n",
       "  <thead>\n",
       "    <tr style=\"text-align: right;\">\n",
       "      <th></th>\n",
       "      <th>combo_products</th>\n",
       "      <th>name</th>\n",
       "      <th>category</th>\n",
       "      <th>sub_category</th>\n",
       "      <th>cuisine</th>\n",
       "      <th>brand</th>\n",
       "      <th>vendor</th>\n",
       "      <th>desc</th>\n",
       "      <th>short_desc</th>\n",
       "      <th>file</th>\n",
       "      <th>...</th>\n",
       "      <th>seo_title</th>\n",
       "      <th>seo_description</th>\n",
       "      <th>seo_keywords</th>\n",
       "      <th>top</th>\n",
       "      <th>taste</th>\n",
       "      <th>slug_history</th>\n",
       "      <th>_id</th>\n",
       "      <th>point_exp_date</th>\n",
       "      <th>slug</th>\n",
       "      <th>__v</th>\n",
       "    </tr>\n",
       "  </thead>\n",
       "  <tbody>\n",
       "    <tr>\n",
       "      <th>0</th>\n",
       "      <td>NaN</td>\n",
       "      <td>Pyaz Kachori (6 pieces) - Radha Kachori, Jaipur</td>\n",
       "      <td>COOKED FOOD</td>\n",
       "      <td>Cooked Vegetarian Food Items</td>\n",
       "      <td>Rajasthani</td>\n",
       "      <td>Radhe Kachori - Jaipur</td>\n",
       "      <td>RADHE KACHORI - JAIPUR</td>\n",
       "      <td>Kanda Kachauri is a kind of Rajasthani Kachori...</td>\n",
       "      <td>Kanda Kachauri is a kind of Rajasthani Kachori...</td>\n",
       "      <td>https://t2p.fra1.digitaloceanspaces.com/169719...</td>\n",
       "      <td>...</td>\n",
       "      <td>Pyajj Kachori Radhe Kachori Jaipur | tastes2plate</td>\n",
       "      <td>Order online Intercity delivery of Pyaz Kachor...</td>\n",
       "      <td>Pyaz Kachori Radhe Kachori Jaipur, Pyaz Kachor...</td>\n",
       "      <td>0</td>\n",
       "      <td>1</td>\n",
       "      <td>[pyaz-kachori-6-pieces-radha-kachori-jaipur]</td>\n",
       "      <td>652913a6e6e20a661fa66975</td>\n",
       "      <td>2023-10-13T00:00:00.000Z</td>\n",
       "      <td>pyaz-kachori-6-pieces-radha-kachori-jaipur</td>\n",
       "      <td>0</td>\n",
       "    </tr>\n",
       "  </tbody>\n",
       "</table>\n",
       "<p>1 rows × 56 columns</p>\n",
       "</div>"
      ],
      "text/plain": [
       "   combo_products                                             name  \\\n",
       "0             NaN  Pyaz Kachori (6 pieces) - Radha Kachori, Jaipur   \n",
       "\n",
       "      category                  sub_category     cuisine  \\\n",
       "0  COOKED FOOD  Cooked Vegetarian Food Items  Rajasthani   \n",
       "\n",
       "                    brand                  vendor  \\\n",
       "0  Radhe Kachori - Jaipur  RADHE KACHORI - JAIPUR   \n",
       "\n",
       "                                                desc  \\\n",
       "0  Kanda Kachauri is a kind of Rajasthani Kachori...   \n",
       "\n",
       "                                          short_desc  \\\n",
       "0  Kanda Kachauri is a kind of Rajasthani Kachori...   \n",
       "\n",
       "                                                file  ...  \\\n",
       "0  https://t2p.fra1.digitaloceanspaces.com/169719...  ...   \n",
       "\n",
       "                                           seo_title  \\\n",
       "0  Pyajj Kachori Radhe Kachori Jaipur | tastes2plate   \n",
       "\n",
       "                                     seo_description  \\\n",
       "0  Order online Intercity delivery of Pyaz Kachor...   \n",
       "\n",
       "                                        seo_keywords top taste  \\\n",
       "0  Pyaz Kachori Radhe Kachori Jaipur, Pyaz Kachor...   0     1   \n",
       "\n",
       "                                   slug_history                       _id  \\\n",
       "0  [pyaz-kachori-6-pieces-radha-kachori-jaipur]  652913a6e6e20a661fa66975   \n",
       "\n",
       "             point_exp_date                                        slug __v  \n",
       "0  2023-10-13T00:00:00.000Z  pyaz-kachori-6-pieces-radha-kachori-jaipur   0  \n",
       "\n",
       "[1 rows x 56 columns]"
      ]
     },
     "execution_count": 193,
     "metadata": {},
     "output_type": "execute_result"
    }
   ],
   "source": [
    "data.head(1)"
   ]
  },
  {
   "cell_type": "code",
   "execution_count": 194,
   "id": "7fbcd1fd",
   "metadata": {},
   "outputs": [
    {
     "data": {
      "text/plain": [
       "Index(['combo_products', 'name', 'category', 'sub_category', 'cuisine',\n",
       "       'brand', 'vendor', 'desc', 'short_desc', 'file', 'price',\n",
       "       'selling_price', 'discounted_price', 'purchase_price', 'batchno',\n",
       "       'city', 'commission', 'packaging_charge', 'tax_status', 'cgst', 'sgst',\n",
       "       'igst', 'sku', 'stock_qty', 'backorders', 'threshold', 'manage_stock',\n",
       "       'weight', 'length', 'width', 'height', 'attribute', 'tags',\n",
       "       'start_date', 'end_date', 'created_date', 'update_date', 'active',\n",
       "       'deal', 'featured', 'deleted', 'express', 'added_by', 'point',\n",
       "       'stock_product', 'consumable', 'seo_title', 'seo_description',\n",
       "       'seo_keywords', 'top', 'taste', 'slug_history', '_id', 'point_exp_date',\n",
       "       'slug', '__v'],\n",
       "      dtype='object')"
      ]
     },
     "execution_count": 194,
     "metadata": {},
     "output_type": "execute_result"
    }
   ],
   "source": [
    "data.columns"
   ]
  },
  {
   "cell_type": "code",
   "execution_count": 28,
   "id": "93a8a16a",
   "metadata": {},
   "outputs": [],
   "source": [
    "## Remove Unwanted columns"
   ]
  },
  {
   "cell_type": "code",
   "execution_count": 195,
   "id": "b560062a",
   "metadata": {},
   "outputs": [],
   "source": [
    "data = data[['name', 'category', 'sub_category', 'cuisine', 'brand', 'desc', 'short_desc', '_id', 'city', 'tags', 'file']]"
   ]
  },
  {
   "cell_type": "code",
   "execution_count": 196,
   "id": "a99df38b",
   "metadata": {},
   "outputs": [
    {
     "data": {
      "text/html": [
       "<div>\n",
       "<style scoped>\n",
       "    .dataframe tbody tr th:only-of-type {\n",
       "        vertical-align: middle;\n",
       "    }\n",
       "\n",
       "    .dataframe tbody tr th {\n",
       "        vertical-align: top;\n",
       "    }\n",
       "\n",
       "    .dataframe thead th {\n",
       "        text-align: right;\n",
       "    }\n",
       "</style>\n",
       "<table border=\"1\" class=\"dataframe\">\n",
       "  <thead>\n",
       "    <tr style=\"text-align: right;\">\n",
       "      <th></th>\n",
       "      <th>name</th>\n",
       "      <th>category</th>\n",
       "      <th>sub_category</th>\n",
       "      <th>cuisine</th>\n",
       "      <th>brand</th>\n",
       "      <th>desc</th>\n",
       "      <th>short_desc</th>\n",
       "      <th>_id</th>\n",
       "      <th>city</th>\n",
       "      <th>tags</th>\n",
       "      <th>file</th>\n",
       "    </tr>\n",
       "  </thead>\n",
       "  <tbody>\n",
       "    <tr>\n",
       "      <th>0</th>\n",
       "      <td>Pyaz Kachori (6 pieces) - Radha Kachori, Jaipur</td>\n",
       "      <td>COOKED FOOD</td>\n",
       "      <td>Cooked Vegetarian Food Items</td>\n",
       "      <td>Rajasthani</td>\n",
       "      <td>Radhe Kachori - Jaipur</td>\n",
       "      <td>Kanda Kachauri is a kind of Rajasthani Kachori...</td>\n",
       "      <td>Kanda Kachauri is a kind of Rajasthani Kachori...</td>\n",
       "      <td>652913a6e6e20a661fa66975</td>\n",
       "      <td>JAIPUR</td>\n",
       "      <td>Pyaz Kachori Jaipur, Pyaz Kachori Radhe Kachor...</td>\n",
       "      <td>https://t2p.fra1.digitaloceanspaces.com/169719...</td>\n",
       "    </tr>\n",
       "  </tbody>\n",
       "</table>\n",
       "</div>"
      ],
      "text/plain": [
       "                                              name     category  \\\n",
       "0  Pyaz Kachori (6 pieces) - Radha Kachori, Jaipur  COOKED FOOD   \n",
       "\n",
       "                   sub_category     cuisine                   brand  \\\n",
       "0  Cooked Vegetarian Food Items  Rajasthani  Radhe Kachori - Jaipur   \n",
       "\n",
       "                                                desc  \\\n",
       "0  Kanda Kachauri is a kind of Rajasthani Kachori...   \n",
       "\n",
       "                                          short_desc  \\\n",
       "0  Kanda Kachauri is a kind of Rajasthani Kachori...   \n",
       "\n",
       "                        _id    city  \\\n",
       "0  652913a6e6e20a661fa66975  JAIPUR   \n",
       "\n",
       "                                                tags  \\\n",
       "0  Pyaz Kachori Jaipur, Pyaz Kachori Radhe Kachor...   \n",
       "\n",
       "                                                file  \n",
       "0  https://t2p.fra1.digitaloceanspaces.com/169719...  "
      ]
     },
     "execution_count": 196,
     "metadata": {},
     "output_type": "execute_result"
    }
   ],
   "source": [
    "data.head(1)"
   ]
  },
  {
   "cell_type": "code",
   "execution_count": 197,
   "id": "d718f3a5",
   "metadata": {},
   "outputs": [],
   "source": [
    "# in some columns there are html text so we have to parse it and make a simple text\n",
    "from bs4 import BeautifulSoup"
   ]
  },
  {
   "cell_type": "code",
   "execution_count": 198,
   "id": "d092b5a2",
   "metadata": {},
   "outputs": [],
   "source": [
    "def cleanText(text):\n",
    "    soup = BeautifulSoup(text, \"html.parser\")\n",
    "    parsed_text = soup.get_text()\n",
    "    # Replace newline characters with spaces\n",
    "    parsed_text = parsed_text.replace('\\r\\n', ' ')\n",
    "\n",
    "    # Replace non-breaking spaces with regular spaces\n",
    "    parsed_text = parsed_text.replace('\\xa0', ' ')\n",
    "    \n",
    "    return parsed_text"
   ]
  },
  {
   "cell_type": "code",
   "execution_count": 199,
   "id": "4be9f8a4",
   "metadata": {},
   "outputs": [
    {
     "name": "stderr",
     "output_type": "stream",
     "text": [
      "C:\\Users\\akkik\\anaconda3\\lib\\site-packages\\bs4\\__init__.py:435: MarkupResemblesLocatorWarning: The input looks more like a filename than markup. You may want to open this file and pass the filehandle into Beautiful Soup.\n",
      "  warnings.warn(\n"
     ]
    }
   ],
   "source": [
    "data['desc'] = data['desc'].apply(cleanText)\n",
    "data['category'] = data['category'].apply(cleanText)\n",
    "data['sub_category'] = data['sub_category'].apply(cleanText)\n",
    "data['cuisine'] = data['cuisine'].apply(cleanText)\n",
    "data['brand'] = data['brand'].apply(cleanText)\n",
    "data['desc'] = data['desc'].apply(cleanText)\n",
    "data['short_desc'] = data['short_desc'].apply(cleanText)\n",
    "data['city'] = data['city'].apply(cleanText)\n",
    "data['tags'] = data['tags'].apply(cleanText)"
   ]
  },
  {
   "cell_type": "code",
   "execution_count": null,
   "id": "5d9173cb",
   "metadata": {},
   "outputs": [],
   "source": [
    "## now we make a column with 'tags' name and add all the string column and remove them"
   ]
  },
  {
   "cell_type": "code",
   "execution_count": 200,
   "id": "0e080b4f",
   "metadata": {},
   "outputs": [],
   "source": [
    "data['tags'] = data['name']+\" \"+data['category']+\" \"+data['cuisine']+\" \"+data['brand']+\" \"+data['desc']+\" \"+data['short_desc']+\" \"+data['city']+\" \"+data['tags']"
   ]
  },
  {
   "cell_type": "code",
   "execution_count": 201,
   "id": "847b04e5",
   "metadata": {},
   "outputs": [],
   "source": [
    "data = data[['_id', 'name', 'tags', 'file']]"
   ]
  },
  {
   "cell_type": "code",
   "execution_count": 202,
   "id": "43f0e568",
   "metadata": {},
   "outputs": [
    {
     "data": {
      "text/html": [
       "<div>\n",
       "<style scoped>\n",
       "    .dataframe tbody tr th:only-of-type {\n",
       "        vertical-align: middle;\n",
       "    }\n",
       "\n",
       "    .dataframe tbody tr th {\n",
       "        vertical-align: top;\n",
       "    }\n",
       "\n",
       "    .dataframe thead th {\n",
       "        text-align: right;\n",
       "    }\n",
       "</style>\n",
       "<table border=\"1\" class=\"dataframe\">\n",
       "  <thead>\n",
       "    <tr style=\"text-align: right;\">\n",
       "      <th></th>\n",
       "      <th>_id</th>\n",
       "      <th>name</th>\n",
       "      <th>tags</th>\n",
       "      <th>file</th>\n",
       "    </tr>\n",
       "  </thead>\n",
       "  <tbody>\n",
       "    <tr>\n",
       "      <th>0</th>\n",
       "      <td>652913a6e6e20a661fa66975</td>\n",
       "      <td>Pyaz Kachori (6 pieces) - Radha Kachori, Jaipur</td>\n",
       "      <td>Pyaz Kachori (6 pieces) - Radha Kachori, Jaipu...</td>\n",
       "      <td>https://t2p.fra1.digitaloceanspaces.com/169719...</td>\n",
       "    </tr>\n",
       "    <tr>\n",
       "      <th>1</th>\n",
       "      <td>65291eede6e20a661fa692e3</td>\n",
       "      <td>Pyaz Kachori (4 pieces) - Radhe Kachori, Jaipur</td>\n",
       "      <td>Pyaz Kachori (4 pieces) - Radhe Kachori, Jaipu...</td>\n",
       "      <td>https://t2p.fra1.digitaloceanspaces.com/169719...</td>\n",
       "    </tr>\n",
       "    <tr>\n",
       "      <th>2</th>\n",
       "      <td>646231c3c7a5bd83862a15d5</td>\n",
       "      <td>Bheja Fry - Chicha's, Lakdikapul, Hyderabad</td>\n",
       "      <td>Bheja Fry - Chicha's, Lakdikapul, Hyderabad CO...</td>\n",
       "      <td>https://t2p.fra1.digitaloceanspaces.com/168415...</td>\n",
       "    </tr>\n",
       "    <tr>\n",
       "      <th>3</th>\n",
       "      <td>6462356cc7a5bd83862a17a2</td>\n",
       "      <td>Butter Chicken (Boneless) - Chicha's, Lakdikap...</td>\n",
       "      <td>Butter Chicken (Boneless) - Chicha's, Lakdikap...</td>\n",
       "      <td>https://t2p.fra1.digitaloceanspaces.com/168415...</td>\n",
       "    </tr>\n",
       "    <tr>\n",
       "      <th>4</th>\n",
       "      <td>64623699c7a5bd83862a18e9</td>\n",
       "      <td>Chicken 65 - Chicha's, Lakdikapul, Hyderabad</td>\n",
       "      <td>Chicken 65 - Chicha's, Lakdikapul, Hyderabad C...</td>\n",
       "      <td>https://t2p.fra1.digitaloceanspaces.com/168415...</td>\n",
       "    </tr>\n",
       "  </tbody>\n",
       "</table>\n",
       "</div>"
      ],
      "text/plain": [
       "                        _id  \\\n",
       "0  652913a6e6e20a661fa66975   \n",
       "1  65291eede6e20a661fa692e3   \n",
       "2  646231c3c7a5bd83862a15d5   \n",
       "3  6462356cc7a5bd83862a17a2   \n",
       "4  64623699c7a5bd83862a18e9   \n",
       "\n",
       "                                                name  \\\n",
       "0    Pyaz Kachori (6 pieces) - Radha Kachori, Jaipur   \n",
       "1    Pyaz Kachori (4 pieces) - Radhe Kachori, Jaipur   \n",
       "2        Bheja Fry - Chicha's, Lakdikapul, Hyderabad   \n",
       "3  Butter Chicken (Boneless) - Chicha's, Lakdikap...   \n",
       "4       Chicken 65 - Chicha's, Lakdikapul, Hyderabad   \n",
       "\n",
       "                                                tags  \\\n",
       "0  Pyaz Kachori (6 pieces) - Radha Kachori, Jaipu...   \n",
       "1  Pyaz Kachori (4 pieces) - Radhe Kachori, Jaipu...   \n",
       "2  Bheja Fry - Chicha's, Lakdikapul, Hyderabad CO...   \n",
       "3  Butter Chicken (Boneless) - Chicha's, Lakdikap...   \n",
       "4  Chicken 65 - Chicha's, Lakdikapul, Hyderabad C...   \n",
       "\n",
       "                                                file  \n",
       "0  https://t2p.fra1.digitaloceanspaces.com/169719...  \n",
       "1  https://t2p.fra1.digitaloceanspaces.com/169719...  \n",
       "2  https://t2p.fra1.digitaloceanspaces.com/168415...  \n",
       "3  https://t2p.fra1.digitaloceanspaces.com/168415...  \n",
       "4  https://t2p.fra1.digitaloceanspaces.com/168415...  "
      ]
     },
     "execution_count": 202,
     "metadata": {},
     "output_type": "execute_result"
    }
   ],
   "source": [
    "data.head()"
   ]
  },
  {
   "cell_type": "code",
   "execution_count": 111,
   "id": "95b53175",
   "metadata": {},
   "outputs": [],
   "source": [
    "# convert all to lower case"
   ]
  },
  {
   "cell_type": "code",
   "execution_count": 203,
   "id": "83c63445",
   "metadata": {},
   "outputs": [
    {
     "name": "stderr",
     "output_type": "stream",
     "text": [
      "C:\\Users\\akkik\\AppData\\Local\\Temp\\ipykernel_10280\\3172751869.py:1: SettingWithCopyWarning: \n",
      "A value is trying to be set on a copy of a slice from a DataFrame.\n",
      "Try using .loc[row_indexer,col_indexer] = value instead\n",
      "\n",
      "See the caveats in the documentation: https://pandas.pydata.org/pandas-docs/stable/user_guide/indexing.html#returning-a-view-versus-a-copy\n",
      "  data['tags'] = data['tags'].apply(lambda x:x.lower())\n"
     ]
    }
   ],
   "source": [
    "data['tags'] = data['tags'].apply(lambda x:x.lower())"
   ]
  },
  {
   "cell_type": "code",
   "execution_count": 115,
   "id": "49a338db",
   "metadata": {},
   "outputs": [],
   "source": [
    "# steming of words"
   ]
  },
  {
   "cell_type": "code",
   "execution_count": 204,
   "id": "5f5a1839",
   "metadata": {},
   "outputs": [],
   "source": [
    "import nltk"
   ]
  },
  {
   "cell_type": "code",
   "execution_count": 205,
   "id": "2427ca77",
   "metadata": {},
   "outputs": [],
   "source": [
    "from nltk.stem.porter import PorterStemmer\n",
    "ps = PorterStemmer()"
   ]
  },
  {
   "cell_type": "code",
   "execution_count": 206,
   "id": "a97c2728",
   "metadata": {},
   "outputs": [],
   "source": [
    "def stem(text):\n",
    "    L = []\n",
    "    \n",
    "    for i in text.split():\n",
    "        L.append(ps.stem(i))\n",
    "    \n",
    "    return \" \".join(L)"
   ]
  },
  {
   "cell_type": "code",
   "execution_count": 207,
   "id": "719e4f08",
   "metadata": {},
   "outputs": [
    {
     "name": "stderr",
     "output_type": "stream",
     "text": [
      "C:\\Users\\akkik\\AppData\\Local\\Temp\\ipykernel_10280\\2997483169.py:1: SettingWithCopyWarning: \n",
      "A value is trying to be set on a copy of a slice from a DataFrame.\n",
      "Try using .loc[row_indexer,col_indexer] = value instead\n",
      "\n",
      "See the caveats in the documentation: https://pandas.pydata.org/pandas-docs/stable/user_guide/indexing.html#returning-a-view-versus-a-copy\n",
      "  data['tags'] = data['tags'].apply(stem)\n"
     ]
    }
   ],
   "source": [
    "data['tags'] = data['tags'].apply(stem)"
   ]
  },
  {
   "cell_type": "code",
   "execution_count": 208,
   "id": "cd98d584",
   "metadata": {},
   "outputs": [],
   "source": [
    "# now convert this string to vector and remove stop words"
   ]
  },
  {
   "cell_type": "code",
   "execution_count": 209,
   "id": "6f129217",
   "metadata": {},
   "outputs": [],
   "source": [
    "from sklearn.feature_extraction.text import CountVectorizer"
   ]
  },
  {
   "cell_type": "code",
   "execution_count": 210,
   "id": "8cd91d87",
   "metadata": {},
   "outputs": [],
   "source": [
    "cv = CountVectorizer(max_features = 3000, stop_words='english')"
   ]
  },
  {
   "cell_type": "code",
   "execution_count": 211,
   "id": "d5055783",
   "metadata": {},
   "outputs": [],
   "source": [
    "vectors = cv.fit_transform(data['tags']).toarray()"
   ]
  },
  {
   "cell_type": "code",
   "execution_count": 212,
   "id": "ba684c01",
   "metadata": {},
   "outputs": [
    {
     "data": {
      "text/plain": [
       "(2649, 3000)"
      ]
     },
     "execution_count": 212,
     "metadata": {},
     "output_type": "execute_result"
    }
   ],
   "source": [
    "vectors.shape"
   ]
  },
  {
   "cell_type": "code",
   "execution_count": 213,
   "id": "517d3cee",
   "metadata": {},
   "outputs": [],
   "source": [
    "# now we got similarity between movies"
   ]
  },
  {
   "cell_type": "code",
   "execution_count": 214,
   "id": "bc111afc",
   "metadata": {},
   "outputs": [],
   "source": [
    "from sklearn.metrics.pairwise import cosine_similarity"
   ]
  },
  {
   "cell_type": "code",
   "execution_count": 215,
   "id": "6b0ad7c1",
   "metadata": {},
   "outputs": [],
   "source": [
    "similarity = cosine_similarity(vectors)"
   ]
  },
  {
   "cell_type": "code",
   "execution_count": 216,
   "id": "98dc84cd",
   "metadata": {},
   "outputs": [
    {
     "data": {
      "text/plain": [
       "(2649, 2649)"
      ]
     },
     "execution_count": 216,
     "metadata": {},
     "output_type": "execute_result"
    }
   ],
   "source": [
    "similarity.shape"
   ]
  },
  {
   "cell_type": "code",
   "execution_count": 217,
   "id": "cdcf3bc9",
   "metadata": {},
   "outputs": [],
   "source": [
    "def recommend(food):\n",
    "    print(\"food is : \" + food)\n",
    "    food_index = data[data['name'] == food].index[0]\n",
    "    distances = similarity[food_index]\n",
    "    food_list = sorted(list(enumerate(distances)), reverse = True, key=lambda x:x[1])[1:20]\n",
    "    \n",
    "    for i in food_list:\n",
    "        print(data.iloc[i[0]]['name'])"
   ]
  },
  {
   "cell_type": "code",
   "execution_count": 218,
   "id": "ed253e78",
   "metadata": {},
   "outputs": [
    {
     "name": "stdout",
     "output_type": "stream",
     "text": [
      "food is : Chicken Seekh Kebab (1 Pc)- Hotel Muhammadi Palace, Jaipur\n",
      "Chicken Seekh Kebab (2 Pcs)- Hotel Muhammadi Palace, Jaipur\n",
      "Chicken Seekh Kebab (4Pcs) - Mughal Zaika, Lucknow\n",
      "Chicken Seekh Kabab- Dastarkhwan (Lucknow)\n",
      "Chicken Seekh Kebab (Half) - Open Air Restaurant, Lucknow\n",
      "Chicken Tangdi (4 Pcs) - Hotel Muhammadi Palace, Jaipur\n",
      "Chicken Tangdi (2 Pcs) - Hotel Muhammadi Palace, Jaipur\n",
      "Chicken Bone Less(Full Plate) - Hotel Muhammadi Palace, Jaipur\n",
      "Chicken Bone Less(Half Plate) - Hotel Muhammadi Palace, Jaipur\n",
      "Chicken Seekh Kebab (Full) - Open Air Restaurant, Lucknow\n",
      "Chicken Stew (2 Pcs)- Hotel Muhammadi Palace, Jaipur\n",
      "Chicken Stew (1 Pc)- Hotel Muhammadi Palace, Jaipur\n",
      "Chicken Tikka (4 Pcs) - Hotel Muhammadi Palace, Jaipur\n",
      "Chicken Sheek Kabab (8 Pcs) - Mandar, Hyderabad\n",
      "Chicken Fry (2 Pcs) - Hotel Muhammadi Palace, Jaipur\n",
      "Butter Chicken (2 Pcs) - Muhammadi Palace, Jaipur\n",
      "Butter Chicken (4 Pcs) - Muhammadi Palace, Jaipur\n",
      "Chicken Tikka (8 Pcs) - Hotel Muhammadi Palace, Jaipur\n",
      "Chicken Changezi (6 Pcs) - Hotel Muhammadi Palace, Jaipur\n",
      "Chicken Boti Kabab (Half) - Wahid Biryani, Lucknow \n"
     ]
    }
   ],
   "source": [
    "recommend(data['name'][2300])"
   ]
  },
  {
   "cell_type": "code",
   "execution_count": 170,
   "id": "b6ceba1d",
   "metadata": {},
   "outputs": [],
   "source": [
    "#now make pickle file"
   ]
  },
  {
   "cell_type": "code",
   "execution_count": 219,
   "id": "59e32fd5",
   "metadata": {},
   "outputs": [],
   "source": [
    "import pickle"
   ]
  },
  {
   "cell_type": "code",
   "execution_count": 220,
   "id": "284bee24",
   "metadata": {},
   "outputs": [],
   "source": [
    "pickle.dump(data.to_dict(), open('food_dict.pkl', 'wb'))"
   ]
  },
  {
   "cell_type": "code",
   "execution_count": 221,
   "id": "e13b8aef",
   "metadata": {},
   "outputs": [],
   "source": [
    "pickle.dump(similarity, open('similarity.pkl', 'wb'))"
   ]
  },
  {
   "cell_type": "code",
   "execution_count": null,
   "id": "8b0e8de0",
   "metadata": {},
   "outputs": [],
   "source": []
  }
 ],
 "metadata": {
  "kernelspec": {
   "display_name": "Python 3 (ipykernel)",
   "language": "python",
   "name": "python3"
  },
  "language_info": {
   "codemirror_mode": {
    "name": "ipython",
    "version": 3
   },
   "file_extension": ".py",
   "mimetype": "text/x-python",
   "name": "python",
   "nbconvert_exporter": "python",
   "pygments_lexer": "ipython3",
   "version": "3.9.13"
  }
 },
 "nbformat": 4,
 "nbformat_minor": 5
}
